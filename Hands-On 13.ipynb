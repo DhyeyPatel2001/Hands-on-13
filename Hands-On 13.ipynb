{
 "cells": [
  {
   "cell_type": "code",
   "execution_count": 5,
   "metadata": {},
   "outputs": [
    {
     "name": "stdout",
     "output_type": "stream",
     "text": [
      "Topological Sort: [4, 5, 0, 2, 1, 3]\n"
     ]
    }
   ],
   "source": [
    "from collections import defaultdict\n",
    "\n",
    "def topological_sort(vertices, edges):\n",
    "    graph = defaultdict(list)\n",
    "    for u, v in edges:\n",
    "        graph[u].append(v)\n",
    "\n",
    "    visited = set()\n",
    "    stack = []\n",
    "\n",
    "    def dfs(node):\n",
    "        if node in visited:\n",
    "            return\n",
    "        visited.add(node)\n",
    "        for neighbor in graph[node]:\n",
    "            dfs(neighbor)\n",
    "        stack.append(node)\n",
    "\n",
    "    for vertex in range(vertices):\n",
    "        if vertex not in visited:\n",
    "            dfs(vertex)\n",
    "\n",
    "    return stack[::-1]  # Reverse the stack to get topological order\n",
    "\n",
    "# Example\n",
    "vertices = 6\n",
    "edges = [(0, 1), (0, 2), (1, 3), (2, 3), (4, 0), (4, 5)]\n",
    "print(\"Topological Sort:\", topological_sort(vertices, edges))\n",
    "\n"
   ]
  },
  {
   "cell_type": "code",
   "execution_count": 7,
   "metadata": {},
   "outputs": [
    {
     "name": "stdout",
     "output_type": "stream",
     "text": [
      "DFS Traversal (starting at 0): [0, 2, 4, 1, 3]\n",
      "DFS Traversal (starting at 1): [1, 2, 4]\n"
     ]
    }
   ],
   "source": [
    "def depth_first_search(graph, start):\n",
    "    visited = set()\n",
    "    result = []\n",
    "\n",
    "    def dfs(node):\n",
    "        if node not in visited:\n",
    "            visited.add(node)\n",
    "            result.append(node)\n",
    "            for neighbor in graph[node]:\n",
    "                dfs(neighbor)\n",
    "\n",
    "    dfs(start)\n",
    "    return result\n",
    "\n",
    "# Example\n",
    "graph = {\n",
    "    0: [2, 3],\n",
    "    1: [2],\n",
    "    2: [4],\n",
    "    3: [],\n",
    "    4: [1]\n",
    "}\n",
    "print(\"DFS Traversal (starting at 0):\", depth_first_search(graph, 0))\n",
    "print(\"DFS Traversal (starting at 1):\", depth_first_search(graph, 1))\n",
    "\n",
    "\n"
   ]
  },
  {
   "cell_type": "code",
   "execution_count": 8,
   "metadata": {},
   "outputs": [
    {
     "name": "stdout",
     "output_type": "stream",
     "text": [
      "Kruskal's MST: [(0, 2, 2), (3, 5, 3), (1, 3, 4), (0, 1, 5), (4, 5, 6), (4, 6, 10)]\n"
     ]
    }
   ],
   "source": [
    "class UnionFind:\n",
    "    def __init__(self, size):\n",
    "        self.parent = list(range(size))\n",
    "        self.rank = [0] * size\n",
    "\n",
    "    def find(self, x):\n",
    "        if self.parent[x] != x:\n",
    "            self.parent[x] = self.find(self.parent[x])  # Path compression\n",
    "        return self.parent[x]\n",
    "\n",
    "    def union(self, x, y):\n",
    "        root_x = self.find(x)\n",
    "        root_y = self.find(y)\n",
    "        if root_x != root_y:\n",
    "            if self.rank[root_x] > self.rank[root_y]:\n",
    "                self.parent[root_y] = root_x\n",
    "            elif self.rank[root_x] < self.rank[root_y]:\n",
    "                self.parent[root_x] = root_y\n",
    "            else:\n",
    "                self.parent[root_y] = root_x\n",
    "                self.rank[root_x] += 1\n",
    "\n",
    "def kruskal(vertices, edges):\n",
    "    uf = UnionFind(vertices)\n",
    "    mst = []\n",
    "    edges.sort(key=lambda x: x[2])  # Sort edges by weight\n",
    "\n",
    "    for u, v, weight in edges:\n",
    "        if uf.find(u) != uf.find(v):\n",
    "            uf.union(u, v)\n",
    "            mst.append((u, v, weight))\n",
    "\n",
    "    return mst\n",
    "\n",
    "# Example\n",
    "vertices = 7\n",
    "edges = [\n",
    "    (0, 1, 5), (0, 2, 2), (1, 3, 4),\n",
    "    (1, 4, 8), (2, 3, 7), (3, 5, 3),\n",
    "    (4, 5, 6), (4, 6, 10)\n",
    "]\n",
    "print(\"Kruskal's MST:\", kruskal(vertices, edges))\n",
    "\n"
   ]
  },
  {
   "cell_type": "code",
   "execution_count": null,
   "metadata": {},
   "outputs": [],
   "source": []
  }
 ],
 "metadata": {
  "kernelspec": {
   "display_name": "base",
   "language": "python",
   "name": "python3"
  },
  "language_info": {
   "codemirror_mode": {
    "name": "ipython",
    "version": 3
   },
   "file_extension": ".py",
   "mimetype": "text/x-python",
   "name": "python",
   "nbconvert_exporter": "python",
   "pygments_lexer": "ipython3",
   "version": "3.11.5"
  }
 },
 "nbformat": 4,
 "nbformat_minor": 2
}
